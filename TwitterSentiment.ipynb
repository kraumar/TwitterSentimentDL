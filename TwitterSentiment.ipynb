{
  "nbformat": 4,
  "nbformat_minor": 0,
  "metadata": {
    "colab": {
      "name": "TwitterSentiment.ipynb",
      "provenance": []
    },
    "kernelspec": {
      "name": "python3",
      "display_name": "Python 3"
    }
  },
  "cells": [
    {
      "cell_type": "code",
      "metadata": {
        "id": "WKU0YSnKNNUf"
      },
      "source": [
        "import pandas as pd\n",
        "from keras.preprocessing.text import Tokenizer\n",
        "from keras.preprocessing.sequence import pad_sequences\n",
        "from keras.models import Sequential\n",
        "from keras.layers import Dense, Dropout\n",
        "from sklearn.model_selection import train_test_split\n",
        "from keras.utils.np_utils import to_categorical\n",
        "from google.colab import drive\n",
        "import keras"
      ],
      "execution_count": 31,
      "outputs": []
    },
    {
      "cell_type": "code",
      "metadata": {
        "id": "90TLu0igO_Li",
        "outputId": "bc3396cc-9e3d-48ac-fbfc-add1d24ee4e9",
        "colab": {
          "base_uri": "https://localhost:8080/"
        }
      },
      "source": [
        "drive.mount('/content/drive')"
      ],
      "execution_count": 2,
      "outputs": [
        {
          "output_type": "stream",
          "text": [
            "Mounted at /content/drive\n"
          ],
          "name": "stdout"
        }
      ]
    },
    {
      "cell_type": "code",
      "metadata": {
        "id": "DSZa_RdbQNpa",
        "outputId": "56e8ec28-d3a6-4db0-ae89-96ec22f59d31",
        "colab": {
          "base_uri": "https://localhost:8080/"
        }
      },
      "source": [
        "!ls \"/content/drive/My Drive/TwitterSentimentDL/Data\""
      ],
      "execution_count": 3,
      "outputs": [
        {
          "output_type": "stream",
          "text": [
            "test.csv  train.csv\n"
          ],
          "name": "stdout"
        }
      ]
    },
    {
      "cell_type": "markdown",
      "metadata": {
        "id": "t7IuOLmlRI5w"
      },
      "source": [
        "# Load Data with pandas"
      ]
    },
    {
      "cell_type": "code",
      "metadata": {
        "id": "Jyl5NzewOIR2"
      },
      "source": [
        "train_data = pd.read_csv(\"/content/drive/My Drive/TwitterSentimentDL/Data/train.csv\")\n",
        "test_data = pd.read_csv(\"/content/drive/My Drive/TwitterSentimentDL/Data/test.csv\")"
      ],
      "execution_count": 53,
      "outputs": []
    },
    {
      "cell_type": "markdown",
      "metadata": {
        "id": "BbAXTHDHWkBe"
      },
      "source": [
        "# Format Data"
      ]
    },
    {
      "cell_type": "code",
      "metadata": {
        "id": "pw_irUfXWtvk"
      },
      "source": [
        "train_data = train_data[['text', 'sentiment']]\n",
        "test_data = test_data[['text','sentiment']]"
      ],
      "execution_count": 54,
      "outputs": []
    },
    {
      "cell_type": "code",
      "metadata": {
        "id": "sCUhyel-CCR6",
        "outputId": "7a35d043-2ead-4ac0-9f14-61de5f76373d",
        "colab": {
          "base_uri": "https://localhost:8080/"
        }
      },
      "source": [
        "print(train_data['text'])"
      ],
      "execution_count": 55,
      "outputs": [
        {
          "output_type": "stream",
          "text": [
            "0                      I`d have responded, if I were going\n",
            "1            Sooo SAD I will miss you here in San Diego!!!\n",
            "2                                my boss is bullying me...\n",
            "3                           what interview! leave me alone\n",
            "4         Sons of ****, why couldn`t they put them on t...\n",
            "                               ...                        \n",
            "27476     wish we could come see u on Denver  husband l...\n",
            "27477     I`ve wondered about rake to.  The client has ...\n",
            "27478     Yay good for both of you. Enjoy the break - y...\n",
            "27479                           But it was worth it  ****.\n",
            "27480       All this flirting going on - The ATG smiles...\n",
            "Name: text, Length: 27481, dtype: object\n"
          ],
          "name": "stdout"
        }
      ]
    },
    {
      "cell_type": "code",
      "metadata": {
        "id": "VzGH5jc3BFXq"
      },
      "source": [
        "import re\n",
        "\n",
        "train_data['text'] = train_data['text'].apply(lambda x: str(x).lower())\n",
        "X_train = train_data['text'].apply((lambda x: re.sub('[^a-zA-z0-9\\s]','',str(x))))\n",
        "\n",
        "test_data['text'] = test_data['text'].apply(lambda x: str(x).lower())\n",
        "X_test = test_data['text'].apply((lambda x: re.sub('[^a-zA-z0-9\\s]','',str(x))))\n"
      ],
      "execution_count": 56,
      "outputs": []
    },
    {
      "cell_type": "code",
      "metadata": {
        "id": "agpC0svHCwVZ",
        "outputId": "d70d08aa-fc55-48de-9aee-912d94c9f489",
        "colab": {
          "base_uri": "https://localhost:8080/"
        }
      },
      "source": [
        "print(X_train[1])"
      ],
      "execution_count": 57,
      "outputs": [
        {
          "output_type": "stream",
          "text": [
            " sooo sad i will miss you here in san diego\n"
          ],
          "name": "stdout"
        }
      ]
    },
    {
      "cell_type": "code",
      "metadata": {
        "id": "3KzzlNGpPYGO"
      },
      "source": [
        "from sklearn.feature_extraction.text import TfidfVectorizer"
      ],
      "execution_count": 58,
      "outputs": []
    },
    {
      "cell_type": "code",
      "metadata": {
        "id": "zCGH3j3W18We"
      },
      "source": [
        "tokenization = TfidfVectorizer(max_features=3500)\n",
        "\n",
        "tokenization.fit(X_train)\n",
        "X_train = tokenization.transform(X_train).toarray()\n",
        "\n",
        "tokenization.fit(X_test)\n",
        "X_test = tokenization.transform(X_test).toarray()"
      ],
      "execution_count": 59,
      "outputs": []
    },
    {
      "cell_type": "code",
      "metadata": {
        "id": "hNhtZXIQFZU8",
        "outputId": "ea3b138a-a238-4e18-b6fa-b726b6727fe5",
        "colab": {
          "base_uri": "https://localhost:8080/"
        }
      },
      "source": [
        "import numpy as np\n",
        "\n",
        "sentiment = {'negative': 0,'neutral': 1, 'positive' : 2} \n",
        "\n",
        "Y_train = np.array([sentiment[x] for x in train_data['sentiment']])\n",
        "Y_test = np.array([sentiment[x] for x in test_data['sentiment']])\n",
        "print(Y_train)"
      ],
      "execution_count": 69,
      "outputs": [
        {
          "output_type": "stream",
          "text": [
            "[1 0 0 ... 2 2 1]\n"
          ],
          "name": "stdout"
        }
      ]
    },
    {
      "cell_type": "markdown",
      "metadata": {
        "id": "9VDanBeXF6V5"
      },
      "source": [
        "# Constructing Model"
      ]
    },
    {
      "cell_type": "code",
      "metadata": {
        "id": "ZtfxgKs5FvqA"
      },
      "source": [
        "model = Sequential()"
      ],
      "execution_count": 61,
      "outputs": []
    },
    {
      "cell_type": "code",
      "metadata": {
        "id": "sgiLVSVXGEGo"
      },
      "source": [
        "model.add(Dense(512, input_shape=(X_train.shape[1],), activation='relu'))\n",
        "model.add(Dropout(0.5))\n",
        "model.add(Dense(256, activation='sigmoid'))\n",
        "model.add(Dropout(0.5))\n",
        "model.add(Dense(3, activation='softmax'))"
      ],
      "execution_count": 63,
      "outputs": []
    },
    {
      "cell_type": "code",
      "metadata": {
        "id": "5xC5W8gbGp7f",
        "outputId": "2b6f8655-96e1-4271-9096-fd9a7eeaea25",
        "colab": {
          "base_uri": "https://localhost:8080/"
        }
      },
      "source": [
        "print(model.summary())"
      ],
      "execution_count": 64,
      "outputs": [
        {
          "output_type": "stream",
          "text": [
            "Model: \"sequential_1\"\n",
            "_________________________________________________________________\n",
            "Layer (type)                 Output Shape              Param #   \n",
            "=================================================================\n",
            "dense_6 (Dense)              (None, 512)               1792512   \n",
            "_________________________________________________________________\n",
            "dropout_4 (Dropout)          (None, 512)               0         \n",
            "_________________________________________________________________\n",
            "dense_7 (Dense)              (None, 256)               131328    \n",
            "_________________________________________________________________\n",
            "dropout_5 (Dropout)          (None, 256)               0         \n",
            "_________________________________________________________________\n",
            "dense_8 (Dense)              (None, 2)                 514       \n",
            "_________________________________________________________________\n",
            "dense_9 (Dense)              (None, 512)               1536      \n",
            "_________________________________________________________________\n",
            "dropout_6 (Dropout)          (None, 512)               0         \n",
            "_________________________________________________________________\n",
            "dense_10 (Dense)             (None, 256)               131328    \n",
            "_________________________________________________________________\n",
            "dropout_7 (Dropout)          (None, 256)               0         \n",
            "_________________________________________________________________\n",
            "dense_11 (Dense)             (None, 3)                 771       \n",
            "=================================================================\n",
            "Total params: 2,057,989\n",
            "Trainable params: 2,057,989\n",
            "Non-trainable params: 0\n",
            "_________________________________________________________________\n",
            "None\n"
          ],
          "name": "stdout"
        }
      ]
    },
    {
      "cell_type": "markdown",
      "metadata": {
        "id": "PDExu0KAG2oW"
      },
      "source": [
        "### Training"
      ]
    },
    {
      "cell_type": "code",
      "metadata": {
        "id": "ambrRa31GvU4",
        "outputId": "7f085b9f-1a76-4cbd-b284-e0c8314fe717",
        "colab": {
          "base_uri": "https://localhost:8080/"
        }
      },
      "source": [
        "batch = 32\n",
        "print(X_train.shape)\n",
        "print(Y_train.shape)\n",
        "optimizer = keras.optimizers.Adam(lr=0.002, beta_1=0.9, beta_2=0.999, epsilon=None, \n",
        "                                      decay=0.0, amsgrad=False)\n",
        "\n",
        "model.compile(loss='sparse_categorical_crossentropy',\n",
        "                 optimizer=optimizer,\n",
        "                 metrics=['accuracy'])\n",
        "\n",
        "\n",
        "model.fit(X_train, Y_train, epochs = 5, batch_size = 32)"
      ],
      "execution_count": 66,
      "outputs": [
        {
          "output_type": "stream",
          "text": [
            "(27481, 3500)\n",
            "(27481,)\n",
            "Epoch 1/5\n",
            "859/859 [==============================] - 15s 17ms/step - loss: 0.9156 - accuracy: 0.5577\n",
            "Epoch 2/5\n",
            "859/859 [==============================] - 15s 17ms/step - loss: 0.7229 - accuracy: 0.6975\n",
            "Epoch 3/5\n",
            "859/859 [==============================] - 15s 17ms/step - loss: 0.6363 - accuracy: 0.7544\n",
            "Epoch 4/5\n",
            "859/859 [==============================] - 15s 17ms/step - loss: 0.5516 - accuracy: 0.7980\n",
            "Epoch 5/5\n",
            "859/859 [==============================] - 15s 17ms/step - loss: 0.4676 - accuracy: 0.8369\n"
          ],
          "name": "stdout"
        },
        {
          "output_type": "execute_result",
          "data": {
            "text/plain": [
              "<tensorflow.python.keras.callbacks.History at 0x7fbf96be45c0>"
            ]
          },
          "metadata": {
            "tags": []
          },
          "execution_count": 66
        }
      ]
    },
    {
      "cell_type": "markdown",
      "metadata": {
        "id": "oSKRe3hh_Dki"
      },
      "source": [
        "#Testing"
      ]
    },
    {
      "cell_type": "code",
      "metadata": {
        "id": "4Vwz63wu_LcP",
        "outputId": "5afddfba-3090-45a1-a23b-850d58cec30a",
        "colab": {
          "base_uri": "https://localhost:8080/"
        }
      },
      "source": [
        "test_mse_score, test_mae_score = model.evaluate(X_test, Y_test)"
      ],
      "execution_count": 67,
      "outputs": [
        {
          "output_type": "stream",
          "text": [
            "111/111 [==============================] - 1s 6ms/step - loss: 1.9117 - accuracy: 0.3633\n"
          ],
          "name": "stdout"
        }
      ]
    },
    {
      "cell_type": "code",
      "metadata": {
        "id": "6u6YUyCVx7ea",
        "outputId": "ad17639b-5ae5-4d47-fe8f-92684f85af7c",
        "colab": {
          "base_uri": "https://localhost:8080/"
        }
      },
      "source": [
        "print(\"model  MSE: \")\n",
        "print(test_mse_score)\n",
        "print(\"model MAE: \")\n",
        "print(test_mae_score)"
      ],
      "execution_count": 68,
      "outputs": [
        {
          "output_type": "stream",
          "text": [
            "model  MSE: \n",
            "1.9116714000701904\n",
            "model MAE: \n",
            "0.36332768201828003\n"
          ],
          "name": "stdout"
        }
      ]
    }
  ]
}